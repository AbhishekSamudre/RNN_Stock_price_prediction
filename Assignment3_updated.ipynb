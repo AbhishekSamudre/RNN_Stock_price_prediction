{
  "nbformat": 4,
  "nbformat_minor": 0,
  "metadata": {
    "colab": {
      "provenance": []
    },
    "kernelspec": {
      "name": "python3",
      "display_name": "Python 3"
    },
    "language_info": {
      "name": "python"
    }
  },
  "cells": [
    {
      "cell_type": "code",
      "execution_count": 3,
      "metadata": {
        "colab": {
          "base_uri": "https://localhost:8080/"
        },
        "id": "k6IQ_-WhS2v7",
        "outputId": "439b7275-b456-4863-b4db-b0160d744759"
      },
      "outputs": [
        {
          "output_type": "stream",
          "name": "stderr",
          "text": [
            "<ipython-input-3-8e3919129fae>:10: DeprecationWarning: `import kerastuner` is deprecated, please use `import keras_tuner`.\n",
            "  from kerastuner.engine.hyperparameters import HyperParameters\n"
          ]
        }
      ],
      "source": [
        "import numpy as np # linear algebra\n",
        "import pandas as pd # data processing, CSV file I/O (e.g. pd.read_csv)\n",
        "import matplotlib.pyplot as plt\n",
        "from tensorflow.keras.models import Sequential\n",
        "from tensorflow.keras.layers import Dense, Dropout,LSTM\n",
        "import numpy as np\n",
        "from sklearn.preprocessing import MinMaxScaler\n",
        "import math\n",
        "from sklearn.metrics import mean_squared_error\n",
        "from kerastuner.engine.hyperparameters import HyperParameters\n",
        "from tensorflow import keras\n",
        "from tensorflow.keras import layers\n",
        "from kerastuner.tuners import RandomSearch"
      ]
    },
    {
      "cell_type": "code",
      "source": [
        "!pip install keras-tuner --upgrade"
      ],
      "metadata": {
        "colab": {
          "base_uri": "https://localhost:8080/"
        },
        "id": "ksbJDjMyTJHe",
        "outputId": "d8f9033f-8ffe-404f-b248-2ec45142a007"
      },
      "execution_count": 2,
      "outputs": [
        {
          "output_type": "stream",
          "name": "stdout",
          "text": [
            "Collecting keras-tuner\n",
            "  Downloading keras_tuner-1.4.6-py3-none-any.whl (128 kB)\n",
            "\u001b[?25l     \u001b[90m━━━━━━━━━━━━━━━━━━━━━━━━━━━━━━━━━━━━━━━━\u001b[0m \u001b[32m0.0/128.9 kB\u001b[0m \u001b[31m?\u001b[0m eta \u001b[36m-:--:--\u001b[0m\r\u001b[2K     \u001b[91m━━━━━━━━━━━━━━━━━━━━━━━━━━━━━━━━━━━━━━\u001b[0m\u001b[90m╺\u001b[0m\u001b[90m━\u001b[0m \u001b[32m122.9/128.9 kB\u001b[0m \u001b[31m3.8 MB/s\u001b[0m eta \u001b[36m0:00:01\u001b[0m\r\u001b[2K     \u001b[90m━━━━━━━━━━━━━━━━━━━━━━━━━━━━━━━━━━━━━━━━\u001b[0m \u001b[32m128.9/128.9 kB\u001b[0m \u001b[31m3.0 MB/s\u001b[0m eta \u001b[36m0:00:00\u001b[0m\n",
            "\u001b[?25hRequirement already satisfied: keras in /usr/local/lib/python3.10/dist-packages (from keras-tuner) (2.14.0)\n",
            "Requirement already satisfied: packaging in /usr/local/lib/python3.10/dist-packages (from keras-tuner) (23.2)\n",
            "Requirement already satisfied: requests in /usr/local/lib/python3.10/dist-packages (from keras-tuner) (2.31.0)\n",
            "Collecting kt-legacy (from keras-tuner)\n",
            "  Downloading kt_legacy-1.0.5-py3-none-any.whl (9.6 kB)\n",
            "Requirement already satisfied: charset-normalizer<4,>=2 in /usr/local/lib/python3.10/dist-packages (from requests->keras-tuner) (3.3.2)\n",
            "Requirement already satisfied: idna<4,>=2.5 in /usr/local/lib/python3.10/dist-packages (from requests->keras-tuner) (3.4)\n",
            "Requirement already satisfied: urllib3<3,>=1.21.1 in /usr/local/lib/python3.10/dist-packages (from requests->keras-tuner) (2.0.7)\n",
            "Requirement already satisfied: certifi>=2017.4.17 in /usr/local/lib/python3.10/dist-packages (from requests->keras-tuner) (2023.7.22)\n",
            "Installing collected packages: kt-legacy, keras-tuner\n",
            "Successfully installed keras-tuner-1.4.6 kt-legacy-1.0.5\n"
          ]
        }
      ]
    },
    {
      "cell_type": "code",
      "source": [
        "df_test = pd.read_csv('Google_Stock_Price_Test.csv')\n",
        "df_train = pd.read_csv('Google_Stock_Price_Train.csv')"
      ],
      "metadata": {
        "id": "zZ2WYmQ1TSmz"
      },
      "execution_count": 5,
      "outputs": []
    },
    {
      "cell_type": "code",
      "source": [
        "df = pd.concat([df_test,df_train])"
      ],
      "metadata": {
        "id": "wMVWQa9RTduy"
      },
      "execution_count": 6,
      "outputs": []
    },
    {
      "cell_type": "code",
      "source": [
        "df.head()"
      ],
      "metadata": {
        "colab": {
          "base_uri": "https://localhost:8080/",
          "height": 206
        },
        "id": "ZdllUuKVTm7T",
        "outputId": "26eefbc7-c30d-450d-8ea4-b6c9f2fccf9b"
      },
      "execution_count": 7,
      "outputs": [
        {
          "output_type": "execute_result",
          "data": {
            "text/plain": [
              "       Date    Open    High     Low   Close     Volume\n",
              "0  1/3/2017  778.81  789.63  775.80  786.14  1,657,300\n",
              "1  1/4/2017  788.36  791.34  783.16   786.9  1,073,000\n",
              "2  1/5/2017  786.08  794.48  785.02  794.02  1,335,200\n",
              "3  1/6/2017  795.26  807.90  792.20  806.15  1,640,200\n",
              "4  1/9/2017  806.40  809.97  802.83  806.65  1,272,400"
            ],
            "text/html": [
              "\n",
              "  <div id=\"df-791cea2d-3f71-4fd1-9965-a9e3127e03cf\" class=\"colab-df-container\">\n",
              "    <div>\n",
              "<style scoped>\n",
              "    .dataframe tbody tr th:only-of-type {\n",
              "        vertical-align: middle;\n",
              "    }\n",
              "\n",
              "    .dataframe tbody tr th {\n",
              "        vertical-align: top;\n",
              "    }\n",
              "\n",
              "    .dataframe thead th {\n",
              "        text-align: right;\n",
              "    }\n",
              "</style>\n",
              "<table border=\"1\" class=\"dataframe\">\n",
              "  <thead>\n",
              "    <tr style=\"text-align: right;\">\n",
              "      <th></th>\n",
              "      <th>Date</th>\n",
              "      <th>Open</th>\n",
              "      <th>High</th>\n",
              "      <th>Low</th>\n",
              "      <th>Close</th>\n",
              "      <th>Volume</th>\n",
              "    </tr>\n",
              "  </thead>\n",
              "  <tbody>\n",
              "    <tr>\n",
              "      <th>0</th>\n",
              "      <td>1/3/2017</td>\n",
              "      <td>778.81</td>\n",
              "      <td>789.63</td>\n",
              "      <td>775.80</td>\n",
              "      <td>786.14</td>\n",
              "      <td>1,657,300</td>\n",
              "    </tr>\n",
              "    <tr>\n",
              "      <th>1</th>\n",
              "      <td>1/4/2017</td>\n",
              "      <td>788.36</td>\n",
              "      <td>791.34</td>\n",
              "      <td>783.16</td>\n",
              "      <td>786.9</td>\n",
              "      <td>1,073,000</td>\n",
              "    </tr>\n",
              "    <tr>\n",
              "      <th>2</th>\n",
              "      <td>1/5/2017</td>\n",
              "      <td>786.08</td>\n",
              "      <td>794.48</td>\n",
              "      <td>785.02</td>\n",
              "      <td>794.02</td>\n",
              "      <td>1,335,200</td>\n",
              "    </tr>\n",
              "    <tr>\n",
              "      <th>3</th>\n",
              "      <td>1/6/2017</td>\n",
              "      <td>795.26</td>\n",
              "      <td>807.90</td>\n",
              "      <td>792.20</td>\n",
              "      <td>806.15</td>\n",
              "      <td>1,640,200</td>\n",
              "    </tr>\n",
              "    <tr>\n",
              "      <th>4</th>\n",
              "      <td>1/9/2017</td>\n",
              "      <td>806.40</td>\n",
              "      <td>809.97</td>\n",
              "      <td>802.83</td>\n",
              "      <td>806.65</td>\n",
              "      <td>1,272,400</td>\n",
              "    </tr>\n",
              "  </tbody>\n",
              "</table>\n",
              "</div>\n",
              "    <div class=\"colab-df-buttons\">\n",
              "\n",
              "  <div class=\"colab-df-container\">\n",
              "    <button class=\"colab-df-convert\" onclick=\"convertToInteractive('df-791cea2d-3f71-4fd1-9965-a9e3127e03cf')\"\n",
              "            title=\"Convert this dataframe to an interactive table.\"\n",
              "            style=\"display:none;\">\n",
              "\n",
              "  <svg xmlns=\"http://www.w3.org/2000/svg\" height=\"24px\" viewBox=\"0 -960 960 960\">\n",
              "    <path d=\"M120-120v-720h720v720H120Zm60-500h600v-160H180v160Zm220 220h160v-160H400v160Zm0 220h160v-160H400v160ZM180-400h160v-160H180v160Zm440 0h160v-160H620v160ZM180-180h160v-160H180v160Zm440 0h160v-160H620v160Z\"/>\n",
              "  </svg>\n",
              "    </button>\n",
              "\n",
              "  <style>\n",
              "    .colab-df-container {\n",
              "      display:flex;\n",
              "      gap: 12px;\n",
              "    }\n",
              "\n",
              "    .colab-df-convert {\n",
              "      background-color: #E8F0FE;\n",
              "      border: none;\n",
              "      border-radius: 50%;\n",
              "      cursor: pointer;\n",
              "      display: none;\n",
              "      fill: #1967D2;\n",
              "      height: 32px;\n",
              "      padding: 0 0 0 0;\n",
              "      width: 32px;\n",
              "    }\n",
              "\n",
              "    .colab-df-convert:hover {\n",
              "      background-color: #E2EBFA;\n",
              "      box-shadow: 0px 1px 2px rgba(60, 64, 67, 0.3), 0px 1px 3px 1px rgba(60, 64, 67, 0.15);\n",
              "      fill: #174EA6;\n",
              "    }\n",
              "\n",
              "    .colab-df-buttons div {\n",
              "      margin-bottom: 4px;\n",
              "    }\n",
              "\n",
              "    [theme=dark] .colab-df-convert {\n",
              "      background-color: #3B4455;\n",
              "      fill: #D2E3FC;\n",
              "    }\n",
              "\n",
              "    [theme=dark] .colab-df-convert:hover {\n",
              "      background-color: #434B5C;\n",
              "      box-shadow: 0px 1px 3px 1px rgba(0, 0, 0, 0.15);\n",
              "      filter: drop-shadow(0px 1px 2px rgba(0, 0, 0, 0.3));\n",
              "      fill: #FFFFFF;\n",
              "    }\n",
              "  </style>\n",
              "\n",
              "    <script>\n",
              "      const buttonEl =\n",
              "        document.querySelector('#df-791cea2d-3f71-4fd1-9965-a9e3127e03cf button.colab-df-convert');\n",
              "      buttonEl.style.display =\n",
              "        google.colab.kernel.accessAllowed ? 'block' : 'none';\n",
              "\n",
              "      async function convertToInteractive(key) {\n",
              "        const element = document.querySelector('#df-791cea2d-3f71-4fd1-9965-a9e3127e03cf');\n",
              "        const dataTable =\n",
              "          await google.colab.kernel.invokeFunction('convertToInteractive',\n",
              "                                                    [key], {});\n",
              "        if (!dataTable) return;\n",
              "\n",
              "        const docLinkHtml = 'Like what you see? Visit the ' +\n",
              "          '<a target=\"_blank\" href=https://colab.research.google.com/notebooks/data_table.ipynb>data table notebook</a>'\n",
              "          + ' to learn more about interactive tables.';\n",
              "        element.innerHTML = '';\n",
              "        dataTable['output_type'] = 'display_data';\n",
              "        await google.colab.output.renderOutput(dataTable, element);\n",
              "        const docLink = document.createElement('div');\n",
              "        docLink.innerHTML = docLinkHtml;\n",
              "        element.appendChild(docLink);\n",
              "      }\n",
              "    </script>\n",
              "  </div>\n",
              "\n",
              "\n",
              "<div id=\"df-30a56e4a-31a7-47fc-9294-f84b899639d6\">\n",
              "  <button class=\"colab-df-quickchart\" onclick=\"quickchart('df-30a56e4a-31a7-47fc-9294-f84b899639d6')\"\n",
              "            title=\"Suggest charts\"\n",
              "            style=\"display:none;\">\n",
              "\n",
              "<svg xmlns=\"http://www.w3.org/2000/svg\" height=\"24px\"viewBox=\"0 0 24 24\"\n",
              "     width=\"24px\">\n",
              "    <g>\n",
              "        <path d=\"M19 3H5c-1.1 0-2 .9-2 2v14c0 1.1.9 2 2 2h14c1.1 0 2-.9 2-2V5c0-1.1-.9-2-2-2zM9 17H7v-7h2v7zm4 0h-2V7h2v10zm4 0h-2v-4h2v4z\"/>\n",
              "    </g>\n",
              "</svg>\n",
              "  </button>\n",
              "\n",
              "<style>\n",
              "  .colab-df-quickchart {\n",
              "      --bg-color: #E8F0FE;\n",
              "      --fill-color: #1967D2;\n",
              "      --hover-bg-color: #E2EBFA;\n",
              "      --hover-fill-color: #174EA6;\n",
              "      --disabled-fill-color: #AAA;\n",
              "      --disabled-bg-color: #DDD;\n",
              "  }\n",
              "\n",
              "  [theme=dark] .colab-df-quickchart {\n",
              "      --bg-color: #3B4455;\n",
              "      --fill-color: #D2E3FC;\n",
              "      --hover-bg-color: #434B5C;\n",
              "      --hover-fill-color: #FFFFFF;\n",
              "      --disabled-bg-color: #3B4455;\n",
              "      --disabled-fill-color: #666;\n",
              "  }\n",
              "\n",
              "  .colab-df-quickchart {\n",
              "    background-color: var(--bg-color);\n",
              "    border: none;\n",
              "    border-radius: 50%;\n",
              "    cursor: pointer;\n",
              "    display: none;\n",
              "    fill: var(--fill-color);\n",
              "    height: 32px;\n",
              "    padding: 0;\n",
              "    width: 32px;\n",
              "  }\n",
              "\n",
              "  .colab-df-quickchart:hover {\n",
              "    background-color: var(--hover-bg-color);\n",
              "    box-shadow: 0 1px 2px rgba(60, 64, 67, 0.3), 0 1px 3px 1px rgba(60, 64, 67, 0.15);\n",
              "    fill: var(--button-hover-fill-color);\n",
              "  }\n",
              "\n",
              "  .colab-df-quickchart-complete:disabled,\n",
              "  .colab-df-quickchart-complete:disabled:hover {\n",
              "    background-color: var(--disabled-bg-color);\n",
              "    fill: var(--disabled-fill-color);\n",
              "    box-shadow: none;\n",
              "  }\n",
              "\n",
              "  .colab-df-spinner {\n",
              "    border: 2px solid var(--fill-color);\n",
              "    border-color: transparent;\n",
              "    border-bottom-color: var(--fill-color);\n",
              "    animation:\n",
              "      spin 1s steps(1) infinite;\n",
              "  }\n",
              "\n",
              "  @keyframes spin {\n",
              "    0% {\n",
              "      border-color: transparent;\n",
              "      border-bottom-color: var(--fill-color);\n",
              "      border-left-color: var(--fill-color);\n",
              "    }\n",
              "    20% {\n",
              "      border-color: transparent;\n",
              "      border-left-color: var(--fill-color);\n",
              "      border-top-color: var(--fill-color);\n",
              "    }\n",
              "    30% {\n",
              "      border-color: transparent;\n",
              "      border-left-color: var(--fill-color);\n",
              "      border-top-color: var(--fill-color);\n",
              "      border-right-color: var(--fill-color);\n",
              "    }\n",
              "    40% {\n",
              "      border-color: transparent;\n",
              "      border-right-color: var(--fill-color);\n",
              "      border-top-color: var(--fill-color);\n",
              "    }\n",
              "    60% {\n",
              "      border-color: transparent;\n",
              "      border-right-color: var(--fill-color);\n",
              "    }\n",
              "    80% {\n",
              "      border-color: transparent;\n",
              "      border-right-color: var(--fill-color);\n",
              "      border-bottom-color: var(--fill-color);\n",
              "    }\n",
              "    90% {\n",
              "      border-color: transparent;\n",
              "      border-bottom-color: var(--fill-color);\n",
              "    }\n",
              "  }\n",
              "</style>\n",
              "\n",
              "  <script>\n",
              "    async function quickchart(key) {\n",
              "      const quickchartButtonEl =\n",
              "        document.querySelector('#' + key + ' button');\n",
              "      quickchartButtonEl.disabled = true;  // To prevent multiple clicks.\n",
              "      quickchartButtonEl.classList.add('colab-df-spinner');\n",
              "      try {\n",
              "        const charts = await google.colab.kernel.invokeFunction(\n",
              "            'suggestCharts', [key], {});\n",
              "      } catch (error) {\n",
              "        console.error('Error during call to suggestCharts:', error);\n",
              "      }\n",
              "      quickchartButtonEl.classList.remove('colab-df-spinner');\n",
              "      quickchartButtonEl.classList.add('colab-df-quickchart-complete');\n",
              "    }\n",
              "    (() => {\n",
              "      let quickchartButtonEl =\n",
              "        document.querySelector('#df-30a56e4a-31a7-47fc-9294-f84b899639d6 button');\n",
              "      quickchartButtonEl.style.display =\n",
              "        google.colab.kernel.accessAllowed ? 'block' : 'none';\n",
              "    })();\n",
              "  </script>\n",
              "</div>\n",
              "    </div>\n",
              "  </div>\n"
            ]
          },
          "metadata": {},
          "execution_count": 7
        }
      ]
    },
    {
      "cell_type": "code",
      "source": [
        "df.info()"
      ],
      "metadata": {
        "colab": {
          "base_uri": "https://localhost:8080/"
        },
        "id": "nU1IbW1wTpMT",
        "outputId": "f0a79423-71cc-4517-c5f6-0a420668a311"
      },
      "execution_count": 8,
      "outputs": [
        {
          "output_type": "stream",
          "name": "stdout",
          "text": [
            "<class 'pandas.core.frame.DataFrame'>\n",
            "Int64Index: 1278 entries, 0 to 1257\n",
            "Data columns (total 6 columns):\n",
            " #   Column  Non-Null Count  Dtype  \n",
            "---  ------  --------------  -----  \n",
            " 0   Date    1278 non-null   object \n",
            " 1   Open    1278 non-null   float64\n",
            " 2   High    1278 non-null   float64\n",
            " 3   Low     1278 non-null   float64\n",
            " 4   Close   1278 non-null   object \n",
            " 5   Volume  1278 non-null   object \n",
            "dtypes: float64(3), object(3)\n",
            "memory usage: 69.9+ KB\n"
          ]
        }
      ]
    },
    {
      "cell_type": "code",
      "source": [
        "df.describe()"
      ],
      "metadata": {
        "colab": {
          "base_uri": "https://localhost:8080/",
          "height": 300
        },
        "id": "SemxwCGqTrN0",
        "outputId": "0ba653fd-c0c8-40f6-e35b-1353630f64dd"
      },
      "execution_count": 9,
      "outputs": [
        {
          "output_type": "execute_result",
          "data": {
            "text/plain": [
              "              Open         High          Low\n",
              "count  1278.000000  1278.000000  1278.000000\n",
              "mean    537.994906   542.168897   533.278803\n",
              "std     154.508365   155.582501   153.174011\n",
              "min     279.120000   281.210000   277.220000\n",
              "25%     406.037500   408.230000   403.335000\n",
              "50%     538.395000   542.330000   534.355000\n",
              "75%     668.862500   677.705000   662.190000\n",
              "max     837.810000   841.950000   827.010000"
            ],
            "text/html": [
              "\n",
              "  <div id=\"df-579a4641-44ed-43f7-8a72-416f0c501a79\" class=\"colab-df-container\">\n",
              "    <div>\n",
              "<style scoped>\n",
              "    .dataframe tbody tr th:only-of-type {\n",
              "        vertical-align: middle;\n",
              "    }\n",
              "\n",
              "    .dataframe tbody tr th {\n",
              "        vertical-align: top;\n",
              "    }\n",
              "\n",
              "    .dataframe thead th {\n",
              "        text-align: right;\n",
              "    }\n",
              "</style>\n",
              "<table border=\"1\" class=\"dataframe\">\n",
              "  <thead>\n",
              "    <tr style=\"text-align: right;\">\n",
              "      <th></th>\n",
              "      <th>Open</th>\n",
              "      <th>High</th>\n",
              "      <th>Low</th>\n",
              "    </tr>\n",
              "  </thead>\n",
              "  <tbody>\n",
              "    <tr>\n",
              "      <th>count</th>\n",
              "      <td>1278.000000</td>\n",
              "      <td>1278.000000</td>\n",
              "      <td>1278.000000</td>\n",
              "    </tr>\n",
              "    <tr>\n",
              "      <th>mean</th>\n",
              "      <td>537.994906</td>\n",
              "      <td>542.168897</td>\n",
              "      <td>533.278803</td>\n",
              "    </tr>\n",
              "    <tr>\n",
              "      <th>std</th>\n",
              "      <td>154.508365</td>\n",
              "      <td>155.582501</td>\n",
              "      <td>153.174011</td>\n",
              "    </tr>\n",
              "    <tr>\n",
              "      <th>min</th>\n",
              "      <td>279.120000</td>\n",
              "      <td>281.210000</td>\n",
              "      <td>277.220000</td>\n",
              "    </tr>\n",
              "    <tr>\n",
              "      <th>25%</th>\n",
              "      <td>406.037500</td>\n",
              "      <td>408.230000</td>\n",
              "      <td>403.335000</td>\n",
              "    </tr>\n",
              "    <tr>\n",
              "      <th>50%</th>\n",
              "      <td>538.395000</td>\n",
              "      <td>542.330000</td>\n",
              "      <td>534.355000</td>\n",
              "    </tr>\n",
              "    <tr>\n",
              "      <th>75%</th>\n",
              "      <td>668.862500</td>\n",
              "      <td>677.705000</td>\n",
              "      <td>662.190000</td>\n",
              "    </tr>\n",
              "    <tr>\n",
              "      <th>max</th>\n",
              "      <td>837.810000</td>\n",
              "      <td>841.950000</td>\n",
              "      <td>827.010000</td>\n",
              "    </tr>\n",
              "  </tbody>\n",
              "</table>\n",
              "</div>\n",
              "    <div class=\"colab-df-buttons\">\n",
              "\n",
              "  <div class=\"colab-df-container\">\n",
              "    <button class=\"colab-df-convert\" onclick=\"convertToInteractive('df-579a4641-44ed-43f7-8a72-416f0c501a79')\"\n",
              "            title=\"Convert this dataframe to an interactive table.\"\n",
              "            style=\"display:none;\">\n",
              "\n",
              "  <svg xmlns=\"http://www.w3.org/2000/svg\" height=\"24px\" viewBox=\"0 -960 960 960\">\n",
              "    <path d=\"M120-120v-720h720v720H120Zm60-500h600v-160H180v160Zm220 220h160v-160H400v160Zm0 220h160v-160H400v160ZM180-400h160v-160H180v160Zm440 0h160v-160H620v160ZM180-180h160v-160H180v160Zm440 0h160v-160H620v160Z\"/>\n",
              "  </svg>\n",
              "    </button>\n",
              "\n",
              "  <style>\n",
              "    .colab-df-container {\n",
              "      display:flex;\n",
              "      gap: 12px;\n",
              "    }\n",
              "\n",
              "    .colab-df-convert {\n",
              "      background-color: #E8F0FE;\n",
              "      border: none;\n",
              "      border-radius: 50%;\n",
              "      cursor: pointer;\n",
              "      display: none;\n",
              "      fill: #1967D2;\n",
              "      height: 32px;\n",
              "      padding: 0 0 0 0;\n",
              "      width: 32px;\n",
              "    }\n",
              "\n",
              "    .colab-df-convert:hover {\n",
              "      background-color: #E2EBFA;\n",
              "      box-shadow: 0px 1px 2px rgba(60, 64, 67, 0.3), 0px 1px 3px 1px rgba(60, 64, 67, 0.15);\n",
              "      fill: #174EA6;\n",
              "    }\n",
              "\n",
              "    .colab-df-buttons div {\n",
              "      margin-bottom: 4px;\n",
              "    }\n",
              "\n",
              "    [theme=dark] .colab-df-convert {\n",
              "      background-color: #3B4455;\n",
              "      fill: #D2E3FC;\n",
              "    }\n",
              "\n",
              "    [theme=dark] .colab-df-convert:hover {\n",
              "      background-color: #434B5C;\n",
              "      box-shadow: 0px 1px 3px 1px rgba(0, 0, 0, 0.15);\n",
              "      filter: drop-shadow(0px 1px 2px rgba(0, 0, 0, 0.3));\n",
              "      fill: #FFFFFF;\n",
              "    }\n",
              "  </style>\n",
              "\n",
              "    <script>\n",
              "      const buttonEl =\n",
              "        document.querySelector('#df-579a4641-44ed-43f7-8a72-416f0c501a79 button.colab-df-convert');\n",
              "      buttonEl.style.display =\n",
              "        google.colab.kernel.accessAllowed ? 'block' : 'none';\n",
              "\n",
              "      async function convertToInteractive(key) {\n",
              "        const element = document.querySelector('#df-579a4641-44ed-43f7-8a72-416f0c501a79');\n",
              "        const dataTable =\n",
              "          await google.colab.kernel.invokeFunction('convertToInteractive',\n",
              "                                                    [key], {});\n",
              "        if (!dataTable) return;\n",
              "\n",
              "        const docLinkHtml = 'Like what you see? Visit the ' +\n",
              "          '<a target=\"_blank\" href=https://colab.research.google.com/notebooks/data_table.ipynb>data table notebook</a>'\n",
              "          + ' to learn more about interactive tables.';\n",
              "        element.innerHTML = '';\n",
              "        dataTable['output_type'] = 'display_data';\n",
              "        await google.colab.output.renderOutput(dataTable, element);\n",
              "        const docLink = document.createElement('div');\n",
              "        docLink.innerHTML = docLinkHtml;\n",
              "        element.appendChild(docLink);\n",
              "      }\n",
              "    </script>\n",
              "  </div>\n",
              "\n",
              "\n",
              "<div id=\"df-38695b0a-30c2-4ba2-a283-132ccde3bf5d\">\n",
              "  <button class=\"colab-df-quickchart\" onclick=\"quickchart('df-38695b0a-30c2-4ba2-a283-132ccde3bf5d')\"\n",
              "            title=\"Suggest charts\"\n",
              "            style=\"display:none;\">\n",
              "\n",
              "<svg xmlns=\"http://www.w3.org/2000/svg\" height=\"24px\"viewBox=\"0 0 24 24\"\n",
              "     width=\"24px\">\n",
              "    <g>\n",
              "        <path d=\"M19 3H5c-1.1 0-2 .9-2 2v14c0 1.1.9 2 2 2h14c1.1 0 2-.9 2-2V5c0-1.1-.9-2-2-2zM9 17H7v-7h2v7zm4 0h-2V7h2v10zm4 0h-2v-4h2v4z\"/>\n",
              "    </g>\n",
              "</svg>\n",
              "  </button>\n",
              "\n",
              "<style>\n",
              "  .colab-df-quickchart {\n",
              "      --bg-color: #E8F0FE;\n",
              "      --fill-color: #1967D2;\n",
              "      --hover-bg-color: #E2EBFA;\n",
              "      --hover-fill-color: #174EA6;\n",
              "      --disabled-fill-color: #AAA;\n",
              "      --disabled-bg-color: #DDD;\n",
              "  }\n",
              "\n",
              "  [theme=dark] .colab-df-quickchart {\n",
              "      --bg-color: #3B4455;\n",
              "      --fill-color: #D2E3FC;\n",
              "      --hover-bg-color: #434B5C;\n",
              "      --hover-fill-color: #FFFFFF;\n",
              "      --disabled-bg-color: #3B4455;\n",
              "      --disabled-fill-color: #666;\n",
              "  }\n",
              "\n",
              "  .colab-df-quickchart {\n",
              "    background-color: var(--bg-color);\n",
              "    border: none;\n",
              "    border-radius: 50%;\n",
              "    cursor: pointer;\n",
              "    display: none;\n",
              "    fill: var(--fill-color);\n",
              "    height: 32px;\n",
              "    padding: 0;\n",
              "    width: 32px;\n",
              "  }\n",
              "\n",
              "  .colab-df-quickchart:hover {\n",
              "    background-color: var(--hover-bg-color);\n",
              "    box-shadow: 0 1px 2px rgba(60, 64, 67, 0.3), 0 1px 3px 1px rgba(60, 64, 67, 0.15);\n",
              "    fill: var(--button-hover-fill-color);\n",
              "  }\n",
              "\n",
              "  .colab-df-quickchart-complete:disabled,\n",
              "  .colab-df-quickchart-complete:disabled:hover {\n",
              "    background-color: var(--disabled-bg-color);\n",
              "    fill: var(--disabled-fill-color);\n",
              "    box-shadow: none;\n",
              "  }\n",
              "\n",
              "  .colab-df-spinner {\n",
              "    border: 2px solid var(--fill-color);\n",
              "    border-color: transparent;\n",
              "    border-bottom-color: var(--fill-color);\n",
              "    animation:\n",
              "      spin 1s steps(1) infinite;\n",
              "  }\n",
              "\n",
              "  @keyframes spin {\n",
              "    0% {\n",
              "      border-color: transparent;\n",
              "      border-bottom-color: var(--fill-color);\n",
              "      border-left-color: var(--fill-color);\n",
              "    }\n",
              "    20% {\n",
              "      border-color: transparent;\n",
              "      border-left-color: var(--fill-color);\n",
              "      border-top-color: var(--fill-color);\n",
              "    }\n",
              "    30% {\n",
              "      border-color: transparent;\n",
              "      border-left-color: var(--fill-color);\n",
              "      border-top-color: var(--fill-color);\n",
              "      border-right-color: var(--fill-color);\n",
              "    }\n",
              "    40% {\n",
              "      border-color: transparent;\n",
              "      border-right-color: var(--fill-color);\n",
              "      border-top-color: var(--fill-color);\n",
              "    }\n",
              "    60% {\n",
              "      border-color: transparent;\n",
              "      border-right-color: var(--fill-color);\n",
              "    }\n",
              "    80% {\n",
              "      border-color: transparent;\n",
              "      border-right-color: var(--fill-color);\n",
              "      border-bottom-color: var(--fill-color);\n",
              "    }\n",
              "    90% {\n",
              "      border-color: transparent;\n",
              "      border-bottom-color: var(--fill-color);\n",
              "    }\n",
              "  }\n",
              "</style>\n",
              "\n",
              "  <script>\n",
              "    async function quickchart(key) {\n",
              "      const quickchartButtonEl =\n",
              "        document.querySelector('#' + key + ' button');\n",
              "      quickchartButtonEl.disabled = true;  // To prevent multiple clicks.\n",
              "      quickchartButtonEl.classList.add('colab-df-spinner');\n",
              "      try {\n",
              "        const charts = await google.colab.kernel.invokeFunction(\n",
              "            'suggestCharts', [key], {});\n",
              "      } catch (error) {\n",
              "        console.error('Error during call to suggestCharts:', error);\n",
              "      }\n",
              "      quickchartButtonEl.classList.remove('colab-df-spinner');\n",
              "      quickchartButtonEl.classList.add('colab-df-quickchart-complete');\n",
              "    }\n",
              "    (() => {\n",
              "      let quickchartButtonEl =\n",
              "        document.querySelector('#df-38695b0a-30c2-4ba2-a283-132ccde3bf5d button');\n",
              "      quickchartButtonEl.style.display =\n",
              "        google.colab.kernel.accessAllowed ? 'block' : 'none';\n",
              "    })();\n",
              "  </script>\n",
              "</div>\n",
              "    </div>\n",
              "  </div>\n"
            ]
          },
          "metadata": {},
          "execution_count": 9
        }
      ]
    },
    {
      "cell_type": "code",
      "source": [
        "df.isnull().sum()"
      ],
      "metadata": {
        "colab": {
          "base_uri": "https://localhost:8080/"
        },
        "id": "uB8sNciITtvB",
        "outputId": "74f23272-d6a8-4a29-b4ab-ff988d431647"
      },
      "execution_count": 10,
      "outputs": [
        {
          "output_type": "execute_result",
          "data": {
            "text/plain": [
              "Date      0\n",
              "Open      0\n",
              "High      0\n",
              "Low       0\n",
              "Close     0\n",
              "Volume    0\n",
              "dtype: int64"
            ]
          },
          "metadata": {},
          "execution_count": 10
        }
      ]
    },
    {
      "cell_type": "code",
      "source": [
        "df.dtypes"
      ],
      "metadata": {
        "colab": {
          "base_uri": "https://localhost:8080/"
        },
        "id": "QGXQRWLSTwK9",
        "outputId": "1cf651ca-3fe1-4a5e-da0d-05891af3f46c"
      },
      "execution_count": 11,
      "outputs": [
        {
          "output_type": "execute_result",
          "data": {
            "text/plain": [
              "Date       object\n",
              "Open      float64\n",
              "High      float64\n",
              "Low       float64\n",
              "Close      object\n",
              "Volume     object\n",
              "dtype: object"
            ]
          },
          "metadata": {},
          "execution_count": 11
        }
      ]
    },
    {
      "cell_type": "code",
      "source": [
        "df    = df.loc[:,[\"Open\"]].values\n",
        "train = df[:len(df)-50]\n",
        "test = df[len(train):]\n",
        "# reshape\n",
        "train = train.reshape(train.shape[0],1)"
      ],
      "metadata": {
        "id": "39IZsRTUTzR0"
      },
      "execution_count": 12,
      "outputs": []
    },
    {
      "cell_type": "code",
      "source": [
        "train.shape"
      ],
      "metadata": {
        "colab": {
          "base_uri": "https://localhost:8080/"
        },
        "id": "GiqsgDX9T0uX",
        "outputId": "78e6107a-7cbc-45e8-acbc-ac2d6b9b58f7"
      },
      "execution_count": 13,
      "outputs": [
        {
          "output_type": "execute_result",
          "data": {
            "text/plain": [
              "(1228, 1)"
            ]
          },
          "metadata": {},
          "execution_count": 13
        }
      ]
    },
    {
      "cell_type": "code",
      "source": [
        "plt.plot(train);\n",
        "plt.title(\"Closing prices for the data\");"
      ],
      "metadata": {
        "colab": {
          "base_uri": "https://localhost:8080/",
          "height": 452
        },
        "id": "kclqdgAIT2CB",
        "outputId": "b78df094-3d29-4509-d981-2b4fe93b76e5"
      },
      "execution_count": 14,
      "outputs": [
        {
          "output_type": "display_data",
          "data": {
            "text/plain": [
              "<Figure size 640x480 with 1 Axes>"
            ],
            "image/png": "[encoded data removed]"
          },
          "metadata": {}
        }
      ]
    },
    {
      "cell_type": "code",
      "source": [
        "from sklearn.preprocessing import MinMaxScaler\n",
        "scaler = MinMaxScaler(feature_range= (0,1)) # defining of Scaler\n",
        "train_scaled = scaler.fit_transform(train) # applying to Scaler to train\n",
        "\n",
        "plt.plot(train_scaled)\n",
        "plt.show()"
      ],
      "metadata": {
        "colab": {
          "base_uri": "https://localhost:8080/",
          "height": 430
        },
        "id": "afguQTINT39L",
        "outputId": "22b12cd4-4618-4768-dfba-29c2a312f0be"
      },
      "execution_count": 15,
      "outputs": [
        {
          "output_type": "display_data",
          "data": {
            "text/plain": [
              "<Figure size 640x480 with 1 Axes>"
            ],
            "image/png": "[encoded data removed]"
          },
          "metadata": {}
        }
      ]
    },
    {
      "cell_type": "code",
      "source": [
        "X_train = []\n",
        "y_train = []\n",
        "timesteps = 50\n",
        "\n",
        "for i in range(timesteps, train_scaled.shape[0]):\n",
        "    X_train.append(train_scaled[i-timesteps:i,0])\n",
        "    y_train.append(train_scaled[i,0])\n",
        "\n",
        "X_train, y_train = np.array(X_train), np.array(y_train)\n",
        "\n",
        "\n",
        "# Reshaping\n",
        "X_train = X_train.reshape(X_train.shape[0], X_train.shape[1], 1)  # Dimension of array is 3."
      ],
      "metadata": {
        "id": "jM_cYnTKT7LG"
      },
      "execution_count": 16,
      "outputs": []
    },
    {
      "cell_type": "code",
      "source": [
        "from keras.models import Sequential\n",
        "from keras.layers import Dense\n",
        "from keras.layers import SimpleRNN\n",
        "from keras.layers import Dropout # it block to overfitting\n",
        "\n",
        "# Initialising the RNN\n",
        "regressor = Sequential()\n",
        "\n",
        "# Adding the first RNN layer and some Dropout regularisation\n",
        "regressor.add(SimpleRNN(units = 50,activation='tanh', return_sequences = True, input_shape = (X_train.shape[1], 1)))\n",
        "regressor.add(Dropout(0.2))\n",
        "\n",
        "# Adding a second RNN layer and some Dropout regularisation.\n",
        "regressor.add(SimpleRNN(units = 50,activation='tanh', return_sequences = True))\n",
        "regressor.add(Dropout(0.2))\n",
        "\n",
        "# Adding a third RNN layer and some Dropout regularisation.\n",
        "regressor.add(SimpleRNN(units = 50,activation='tanh', return_sequences = True))\n",
        "regressor.add(Dropout(0.2))\n",
        "\n",
        "# Adding a fourth RNN layer and some Dropout regularisation.\n",
        "regressor.add(SimpleRNN(units = 50))\n",
        "regressor.add(Dropout(0.2))\n",
        "\n",
        "\n",
        "# Adding the output layer\n",
        "regressor.add(Dense(units = 1))\n",
        "\n",
        "# Compiling the RNN\n",
        "regressor.compile(optimizer = 'adam', loss = 'mean_squared_error')\n",
        "\n",
        "# Fitting the RNN to the Training set\n",
        "regressor.fit(X_train, y_train, epochs = 100, batch_size = 32)"
      ],
      "metadata": {
        "colab": {
          "base_uri": "https://localhost:8080/"
        },
        "id": "thShWHPHT-PV",
        "outputId": "50004f1c-43d8-41c0-99ac-fcf8e7d0f43c"
      },
      "execution_count": 17,
      "outputs": [
        {
          "output_type": "stream",
          "name": "stdout",
          "text": [
            "Epoch 1/100\n",
            "37/37 [==============================] - 7s 50ms/step - loss: 0.3953\n",
            "Epoch 2/100\n",
            "37/37 [==============================] - 3s 84ms/step - loss: 0.2526\n",
            "Epoch 3/100\n",
            "37/37 [==============================] - 2s 63ms/step - loss: 0.1867\n",
            "Epoch 4/100\n",
            "37/37 [==============================] - 2s 45ms/step - loss: 0.1362\n",
            "Epoch 5/100\n",
            "37/37 [==============================] - 2s 45ms/step - loss: 0.1075\n",
            "Epoch 6/100\n",
            "37/37 [==============================] - 2s 46ms/step - loss: 0.0858\n",
            "Epoch 7/100\n",
            "37/37 [==============================] - 2s 47ms/step - loss: 0.0685\n",
            "Epoch 8/100\n",
            "37/37 [==============================] - 2s 45ms/step - loss: 0.0587\n",
            "Epoch 9/100\n",
            "37/37 [==============================] - 2s 68ms/step - loss: 0.0518\n",
            "Epoch 10/100\n",
            "37/37 [==============================] - 3s 81ms/step - loss: 0.0435\n",
            "Epoch 11/100\n",
            "37/37 [==============================] - 2s 47ms/step - loss: 0.0377\n",
            "Epoch 12/100\n",
            "37/37 [==============================] - 2s 47ms/step - loss: 0.0332\n",
            "Epoch 13/100\n",
            "37/37 [==============================] - 2s 46ms/step - loss: 0.0281\n",
            "Epoch 14/100\n",
            "37/37 [==============================] - 2s 47ms/step - loss: 0.0268\n",
            "Epoch 15/100\n",
            "37/37 [==============================] - 2s 45ms/step - loss: 0.0220\n",
            "Epoch 16/100\n",
            "37/37 [==============================] - 2s 47ms/step - loss: 0.0199\n",
            "Epoch 17/100\n",
            "37/37 [==============================] - 3s 82ms/step - loss: 0.0181\n",
            "Epoch 18/100\n",
            "37/37 [==============================] - 3s 67ms/step - loss: 0.0177\n",
            "Epoch 19/100\n",
            "37/37 [==============================] - 2s 45ms/step - loss: 0.0155\n",
            "Epoch 20/100\n",
            "37/37 [==============================] - 2s 45ms/step - loss: 0.0139\n",
            "Epoch 21/100\n",
            "37/37 [==============================] - 2s 45ms/step - loss: 0.0124\n",
            "Epoch 22/100\n",
            "37/37 [==============================] - 2s 45ms/step - loss: 0.0122\n",
            "Epoch 23/100\n",
            "37/37 [==============================] - 2s 45ms/step - loss: 0.0116\n",
            "Epoch 24/100\n",
            "37/37 [==============================] - 2s 60ms/step - loss: 0.0107\n",
            "Epoch 25/100\n",
            "37/37 [==============================] - 3s 81ms/step - loss: 0.0108\n",
            "Epoch 26/100\n",
            "37/37 [==============================] - 2s 57ms/step - loss: 0.0086\n",
            "Epoch 27/100\n",
            "37/37 [==============================] - 2s 48ms/step - loss: 0.0080\n",
            "Epoch 28/100\n",
            "37/37 [==============================] - 2s 55ms/step - loss: 0.0085\n",
            "Epoch 29/100\n",
            "37/37 [==============================] - 2s 46ms/step - loss: 0.0074\n",
            "Epoch 30/100\n",
            "37/37 [==============================] - 2s 46ms/step - loss: 0.0077\n",
            "Epoch 31/100\n",
            "37/37 [==============================] - 2s 50ms/step - loss: 0.0069\n",
            "Epoch 32/100\n",
            "37/37 [==============================] - 3s 83ms/step - loss: 0.0067\n",
            "Epoch 33/100\n",
            "37/37 [==============================] - 2s 66ms/step - loss: 0.0064\n",
            "Epoch 34/100\n",
            "37/37 [==============================] - 2s 46ms/step - loss: 0.0059\n",
            "Epoch 35/100\n",
            "37/37 [==============================] - 2s 45ms/step - loss: 0.0060\n",
            "Epoch 36/100\n",
            "37/37 [==============================] - 2s 59ms/step - loss: 0.0059\n",
            "Epoch 37/100\n",
            "37/37 [==============================] - 2s 56ms/step - loss: 0.0055\n",
            "Epoch 38/100\n",
            "37/37 [==============================] - 2s 46ms/step - loss: 0.0049\n",
            "Epoch 39/100\n",
            "37/37 [==============================] - 3s 82ms/step - loss: 0.0053\n",
            "Epoch 40/100\n",
            "37/37 [==============================] - 3s 71ms/step - loss: 0.0048\n",
            "Epoch 41/100\n",
            "37/37 [==============================] - 2s 46ms/step - loss: 0.0049\n",
            "Epoch 42/100\n",
            "37/37 [==============================] - 2s 46ms/step - loss: 0.0047\n",
            "Epoch 43/100\n",
            "37/37 [==============================] - 2s 46ms/step - loss: 0.0040\n",
            "Epoch 44/100\n",
            "37/37 [==============================] - 2s 46ms/step - loss: 0.0039\n",
            "Epoch 45/100\n",
            "37/37 [==============================] - 2s 45ms/step - loss: 0.0043\n",
            "Epoch 46/100\n",
            "37/37 [==============================] - 2s 63ms/step - loss: 0.0041\n",
            "Epoch 47/100\n",
            "37/37 [==============================] - 3s 83ms/step - loss: 0.0039\n",
            "Epoch 48/100\n",
            "37/37 [==============================] - 2s 52ms/step - loss: 0.0041\n",
            "Epoch 49/100\n",
            "37/37 [==============================] - 2s 45ms/step - loss: 0.0043\n",
            "Epoch 50/100\n",
            "37/37 [==============================] - 2s 46ms/step - loss: 0.0034\n",
            "Epoch 51/100\n",
            "37/37 [==============================] - 2s 46ms/step - loss: 0.0038\n",
            "Epoch 52/100\n",
            "37/37 [==============================] - 2s 45ms/step - loss: 0.0038\n",
            "Epoch 53/100\n",
            "37/37 [==============================] - 2s 45ms/step - loss: 0.0034\n",
            "Epoch 54/100\n",
            "37/37 [==============================] - 3s 78ms/step - loss: 0.0034\n",
            "Epoch 55/100\n",
            "37/37 [==============================] - 3s 76ms/step - loss: 0.0034\n",
            "Epoch 56/100\n",
            "37/37 [==============================] - 2s 45ms/step - loss: 0.0035\n",
            "Epoch 57/100\n",
            "37/37 [==============================] - 2s 46ms/step - loss: 0.0031\n",
            "Epoch 58/100\n",
            "37/37 [==============================] - 2s 45ms/step - loss: 0.0032\n",
            "Epoch 59/100\n",
            "37/37 [==============================] - 2s 45ms/step - loss: 0.0029\n",
            "Epoch 60/100\n",
            "37/37 [==============================] - 2s 45ms/step - loss: 0.0029\n",
            "Epoch 61/100\n",
            "37/37 [==============================] - 2s 55ms/step - loss: 0.0025\n",
            "Epoch 62/100\n",
            "37/37 [==============================] - 3s 83ms/step - loss: 0.0026\n",
            "Epoch 63/100\n",
            "37/37 [==============================] - 2s 60ms/step - loss: 0.0027\n",
            "Epoch 64/100\n",
            "37/37 [==============================] - 2s 45ms/step - loss: 0.0026\n",
            "Epoch 65/100\n",
            "37/37 [==============================] - 2s 46ms/step - loss: 0.0030\n",
            "Epoch 66/100\n",
            "37/37 [==============================] - 2s 46ms/step - loss: 0.0029\n",
            "Epoch 67/100\n",
            "37/37 [==============================] - 2s 45ms/step - loss: 0.0023\n",
            "Epoch 68/100\n",
            "37/37 [==============================] - 2s 46ms/step - loss: 0.0025\n",
            "Epoch 69/100\n",
            "37/37 [==============================] - 3s 72ms/step - loss: 0.0024\n",
            "Epoch 70/100\n",
            "37/37 [==============================] - 3s 82ms/step - loss: 0.0028\n",
            "Epoch 71/100\n",
            "37/37 [==============================] - 2s 45ms/step - loss: 0.0027\n",
            "Epoch 72/100\n",
            "37/37 [==============================] - 2s 47ms/step - loss: 0.0024\n",
            "Epoch 73/100\n",
            "37/37 [==============================] - 2s 45ms/step - loss: 0.0022\n",
            "Epoch 74/100\n",
            "37/37 [==============================] - 2s 46ms/step - loss: 0.0024\n",
            "Epoch 75/100\n",
            "37/37 [==============================] - 2s 46ms/step - loss: 0.0024\n",
            "Epoch 76/100\n",
            "37/37 [==============================] - 2s 49ms/step - loss: 0.0028\n",
            "Epoch 77/100\n",
            "37/37 [==============================] - 3s 81ms/step - loss: 0.0021\n",
            "Epoch 78/100\n",
            "37/37 [==============================] - 3s 69ms/step - loss: 0.0022\n",
            "Epoch 79/100\n",
            "37/37 [==============================] - 2s 45ms/step - loss: 0.0022\n",
            "Epoch 80/100\n",
            "37/37 [==============================] - 2s 46ms/step - loss: 0.0021\n",
            "Epoch 81/100\n",
            "37/37 [==============================] - 2s 46ms/step - loss: 0.0021\n",
            "Epoch 82/100\n",
            "37/37 [==============================] - 2s 45ms/step - loss: 0.0021\n",
            "Epoch 83/100\n",
            "37/37 [==============================] - 2s 46ms/step - loss: 0.0022\n",
            "Epoch 84/100\n",
            "37/37 [==============================] - 2s 65ms/step - loss: 0.0022\n",
            "Epoch 85/100\n",
            "37/37 [==============================] - 3s 83ms/step - loss: 0.0021\n",
            "Epoch 86/100\n",
            "37/37 [==============================] - 2s 49ms/step - loss: 0.0017\n",
            "Epoch 87/100\n",
            "37/37 [==============================] - 2s 47ms/step - loss: 0.0020\n",
            "Epoch 88/100\n",
            "37/37 [==============================] - 2s 45ms/step - loss: 0.0018\n",
            "Epoch 89/100\n",
            "37/37 [==============================] - 2s 45ms/step - loss: 0.0019\n",
            "Epoch 90/100\n",
            "37/37 [==============================] - 2s 46ms/step - loss: 0.0018\n",
            "Epoch 91/100\n",
            "37/37 [==============================] - 2s 45ms/step - loss: 0.0019\n",
            "Epoch 92/100\n",
            "37/37 [==============================] - 3s 83ms/step - loss: 0.0019\n",
            "Epoch 93/100\n",
            "37/37 [==============================] - 3s 71ms/step - loss: 0.0018\n",
            "Epoch 94/100\n",
            "37/37 [==============================] - 2s 46ms/step - loss: 0.0018\n",
            "Epoch 95/100\n",
            "37/37 [==============================] - 2s 46ms/step - loss: 0.0018\n",
            "Epoch 96/100\n",
            "37/37 [==============================] - 2s 45ms/step - loss: 0.0018\n",
            "Epoch 97/100\n",
            "37/37 [==============================] - 2s 45ms/step - loss: 0.0018\n",
            "Epoch 98/100\n",
            "37/37 [==============================] - 2s 49ms/step - loss: 0.0018\n",
            "Epoch 99/100\n",
            "37/37 [==============================] - 2s 63ms/step - loss: 0.0020\n",
            "Epoch 100/100\n",
            "37/37 [==============================] - 3s 81ms/step - loss: 0.0016\n"
          ]
        },
        {
          "output_type": "execute_result",
          "data": {
            "text/plain": [
              "<keras.src.callbacks.History at 0x7f67ac1a7580>"
            ]
          },
          "metadata": {},
          "execution_count": 17
        }
      ]
    },
    {
      "cell_type": "code",
      "source": [
        "inputs = df[len(df) - len(test) - timesteps:]\n",
        "inputs = scaler.transform(inputs)  # min max scaler"
      ],
      "metadata": {
        "id": "kXctwNSBVG6V"
      },
      "execution_count": 19,
      "outputs": []
    },
    {
      "cell_type": "code",
      "source": [
        "X_test = []\n",
        "for i in range(timesteps, inputs.shape[0]):\n",
        "    X_test.append(inputs[i-timesteps:i, 0]) # 0 dan 50 ye, 1 den 51 e gibi kaydirarark 50 eleman aliyoruz\n",
        "X_test = np.array(X_test)\n",
        "X_test = X_test.reshape(X_test.shape[0], X_test.shape[1], 1)"
      ],
      "metadata": {
        "id": "EmgnqqXSVId5"
      },
      "execution_count": 20,
      "outputs": []
    },
    {
      "cell_type": "code",
      "source": [
        "predicted_data = regressor.predict(X_test)\n",
        "predicted_data = scaler.inverse_transform(predicted_data)"
      ],
      "metadata": {
        "colab": {
          "base_uri": "https://localhost:8080/"
        },
        "id": "JZe20fl1VS7_",
        "outputId": "2a77cbad-c64b-414c-88b9-3c413fec65a5"
      },
      "execution_count": 21,
      "outputs": [
        {
          "output_type": "stream",
          "name": "stdout",
          "text": [
            "2/2 [==============================] - 1s 48ms/step\n"
          ]
        }
      ]
    },
    {
      "cell_type": "code",
      "source": [
        "from sklearn.metrics import mean_squared_error\n",
        "rmse = np.sqrt(mean_squared_error(test, predicted_data))\n",
        "print(\"Root Mean Squared Error (RMSE):\", rmse)"
      ],
      "metadata": {
        "colab": {
          "base_uri": "https://localhost:8080/"
        },
        "id": "gb5sh7t7Z4JG",
        "outputId": "fce84c9e-c7a0-42a1-e979-127af96c636f"
      },
      "execution_count": 29,
      "outputs": [
        {
          "output_type": "stream",
          "name": "stdout",
          "text": [
            "Root Mean Squared Error (RMSE): 12.489615467643292\n"
          ]
        }
      ]
    },
    {
      "cell_type": "code",
      "source": [
        "plt.figure(figsize=(8,4), dpi=80, facecolor='w', edgecolor='k')\n",
        "plt.plot(test,color=\"orange\",label=\"Real value\")\n",
        "plt.plot(predicted_data,color=\"c\",label=\"RNN predicted result\")\n",
        "plt.legend()\n",
        "plt.xlabel(\"Days\")\n",
        "plt.ylabel(\"Values\")\n",
        "plt.grid(True)\n",
        "plt.show()"
      ],
      "metadata": {
        "colab": {
          "base_uri": "https://localhost:8080/",
          "height": 314
        },
        "id": "YZhftChoVUaH",
        "outputId": "f2336ae1-5422-4fce-85ae-2ff575ec0cf9"
      },
      "execution_count": 22,
      "outputs": [
        {
          "output_type": "display_data",
          "data": {
            "text/plain": [
              "<Figure size 640x320 with 1 Axes>"
            ],
            "image/png": "[encoded data removed]"
          },
          "metadata": {}
        }
      ]
    },
    {
      "cell_type": "code",
      "source": [
        "from keras.models import Sequential\n",
        "from keras.layers import Dense\n",
        "from keras.layers import LSTM\n",
        "from sklearn.preprocessing import MinMaxScaler\n",
        "from sklearn.metrics import mean_squared_error"
      ],
      "metadata": {
        "id": "orYqtmFUVWOB"
      },
      "execution_count": 23,
      "outputs": []
    },
    {
      "cell_type": "code",
      "source": [
        "model = Sequential()\n",
        "model.add(LSTM(10, input_shape=(None,1)))\n",
        "model.add(Dense(1))\n",
        "model.compile(loss=\"mean_squared_error\",optimizer='Adam')\n",
        "model.fit(X_train,y_train,epochs=50, batch_size=1)"
      ],
      "metadata": {
        "colab": {
          "base_uri": "https://localhost:8080/"
        },
        "id": "xhoeAMXjVYJ1",
        "outputId": "c71d1f10-a12e-4c40-ec91-58e880991b37"
      },
      "execution_count": 24,
      "outputs": [
        {
          "output_type": "stream",
          "name": "stdout",
          "text": [
            "Epoch 1/50\n",
            "1178/1178 [==============================] - 16s 11ms/step - loss: 0.0120\n",
            "Epoch 2/50\n",
            "1178/1178 [==============================] - 13s 11ms/step - loss: 0.0010\n",
            "Epoch 3/50\n",
            "1178/1178 [==============================] - 13s 11ms/step - loss: 8.3646e-04\n",
            "Epoch 4/50\n",
            "1178/1178 [==============================] - 13s 11ms/step - loss: 7.3662e-04\n",
            "Epoch 5/50\n",
            "1178/1178 [==============================] - 15s 13ms/step - loss: 6.3649e-04\n",
            "Epoch 6/50\n",
            "1178/1178 [==============================] - 12s 10ms/step - loss: 6.2275e-04\n",
            "Epoch 7/50\n",
            "1178/1178 [==============================] - 13s 11ms/step - loss: 5.7795e-04\n",
            "Epoch 8/50\n",
            "1178/1178 [==============================] - 14s 12ms/step - loss: 5.1631e-04\n",
            "Epoch 9/50\n",
            "1178/1178 [==============================] - 14s 12ms/step - loss: 5.0380e-04\n",
            "Epoch 10/50\n",
            "1178/1178 [==============================] - 13s 11ms/step - loss: 4.8140e-04\n",
            "Epoch 11/50\n",
            "1178/1178 [==============================] - 13s 11ms/step - loss: 4.0423e-04\n",
            "Epoch 12/50\n",
            "1178/1178 [==============================] - 13s 11ms/step - loss: 3.9082e-04\n",
            "Epoch 13/50\n",
            "1178/1178 [==============================] - 13s 11ms/step - loss: 3.4675e-04\n",
            "Epoch 14/50\n",
            "1178/1178 [==============================] - 13s 11ms/step - loss: 3.3519e-04\n",
            "Epoch 15/50\n",
            "1178/1178 [==============================] - 13s 11ms/step - loss: 3.2138e-04\n",
            "Epoch 16/50\n",
            "1178/1178 [==============================] - 13s 11ms/step - loss: 2.9933e-04\n",
            "Epoch 17/50\n",
            "1178/1178 [==============================] - 13s 11ms/step - loss: 2.9255e-04\n",
            "Epoch 18/50\n",
            "1178/1178 [==============================] - 13s 11ms/step - loss: 3.0689e-04\n",
            "Epoch 19/50\n",
            "1178/1178 [==============================] - 13s 11ms/step - loss: 2.9617e-04\n",
            "Epoch 20/50\n",
            "1178/1178 [==============================] - 13s 11ms/step - loss: 3.0169e-04\n",
            "Epoch 21/50\n",
            "1178/1178 [==============================] - 13s 11ms/step - loss: 2.9822e-04\n",
            "Epoch 22/50\n",
            "1178/1178 [==============================] - 12s 10ms/step - loss: 2.9478e-04\n",
            "Epoch 23/50\n",
            "1178/1178 [==============================] - 12s 10ms/step - loss: 2.9552e-04\n",
            "Epoch 24/50\n",
            "1178/1178 [==============================] - 13s 11ms/step - loss: 2.8544e-04\n",
            "Epoch 25/50\n",
            "1178/1178 [==============================] - 13s 11ms/step - loss: 2.8636e-04\n",
            "Epoch 26/50\n",
            "1178/1178 [==============================] - 13s 11ms/step - loss: 2.8946e-04\n",
            "Epoch 27/50\n",
            "1178/1178 [==============================] - 13s 11ms/step - loss: 2.9457e-04\n",
            "Epoch 28/50\n",
            "1178/1178 [==============================] - 14s 12ms/step - loss: 2.7389e-04\n",
            "Epoch 29/50\n",
            "1178/1178 [==============================] - 13s 11ms/step - loss: 2.8045e-04\n",
            "Epoch 30/50\n",
            "1178/1178 [==============================] - 12s 10ms/step - loss: 2.8368e-04\n",
            "Epoch 31/50\n",
            "1178/1178 [==============================] - 13s 11ms/step - loss: 2.7948e-04\n",
            "Epoch 32/50\n",
            "1178/1178 [==============================] - 13s 11ms/step - loss: 2.7632e-04\n",
            "Epoch 33/50\n",
            "1178/1178 [==============================] - 13s 11ms/step - loss: 2.8257e-04\n",
            "Epoch 34/50\n",
            "1178/1178 [==============================] - 14s 12ms/step - loss: 2.9351e-04\n",
            "Epoch 35/50\n",
            "1178/1178 [==============================] - 14s 12ms/step - loss: 2.6980e-04\n",
            "Epoch 36/50\n",
            "1178/1178 [==============================] - 14s 12ms/step - loss: 2.8965e-04\n",
            "Epoch 37/50\n",
            "1178/1178 [==============================] - 14s 12ms/step - loss: 2.8172e-04\n",
            "Epoch 38/50\n",
            "1178/1178 [==============================] - 13s 11ms/step - loss: 2.6331e-04\n",
            "Epoch 39/50\n",
            "1178/1178 [==============================] - 13s 11ms/step - loss: 2.7909e-04\n",
            "Epoch 40/50\n",
            "1178/1178 [==============================] - 13s 11ms/step - loss: 2.7358e-04\n",
            "Epoch 41/50\n",
            "1178/1178 [==============================] - 14s 12ms/step - loss: 2.7591e-04\n",
            "Epoch 42/50\n",
            "1178/1178 [==============================] - 14s 12ms/step - loss: 2.9309e-04\n",
            "Epoch 43/50\n",
            "1178/1178 [==============================] - 14s 12ms/step - loss: 2.7378e-04\n",
            "Epoch 44/50\n",
            "1178/1178 [==============================] - 13s 11ms/step - loss: 2.7816e-04\n",
            "Epoch 45/50\n",
            "1178/1178 [==============================] - 13s 11ms/step - loss: 2.9769e-04\n",
            "Epoch 46/50\n",
            "1178/1178 [==============================] - 14s 12ms/step - loss: 2.6954e-04\n",
            "Epoch 47/50\n",
            "1178/1178 [==============================] - 13s 11ms/step - loss: 2.7485e-04\n",
            "Epoch 48/50\n",
            "1178/1178 [==============================] - 13s 11ms/step - loss: 2.7311e-04\n",
            "Epoch 49/50\n",
            "1178/1178 [==============================] - 13s 11ms/step - loss: 2.7609e-04\n",
            "Epoch 50/50\n",
            "1178/1178 [==============================] - 14s 12ms/step - loss: 2.7313e-04\n"
          ]
        },
        {
          "output_type": "execute_result",
          "data": {
            "text/plain": [
              "<keras.src.callbacks.History at 0x7f679c266920>"
            ]
          },
          "metadata": {},
          "execution_count": 24
        }
      ]
    },
    {
      "cell_type": "code",
      "source": [
        "predicted_data2=model.predict(X_test)\n",
        "predicted_data2=scaler.inverse_transform(predicted_data2)"
      ],
      "metadata": {
        "colab": {
          "base_uri": "https://localhost:8080/"
        },
        "id": "IKGsoxOCVZix",
        "outputId": "0cf1496e-b66f-40cb-adc3-1917a50c24ca"
      },
      "execution_count": 25,
      "outputs": [
        {
          "output_type": "stream",
          "name": "stdout",
          "text": [
            "2/2 [==============================] - 1s 15ms/step\n"
          ]
        }
      ]
    },
    {
      "cell_type": "code",
      "source": [
        "plt.figure(figsize=(8,4), dpi=80, facecolor='w', edgecolor='k')\n",
        "plt.plot(test,color=\"LimeGreen\",label=\"Real values\")\n",
        "plt.plot(predicted_data2,color=\"Gold\",label=\"Predicted LSTM result\")\n",
        "plt.legend()\n",
        "plt.xlabel(\"Days\")\n",
        "plt.ylabel(\"Values\")\n",
        "plt.grid(True)\n",
        "plt.show()"
      ],
      "metadata": {
        "colab": {
          "base_uri": "https://localhost:8080/",
          "height": 314
        },
        "id": "pDfa0LJ6YEzW",
        "outputId": "a95b6cdf-abb0-49ee-8063-ba91412c9648"
      },
      "execution_count": 26,
      "outputs": [
        {
          "output_type": "display_data",
          "data": {
            "text/plain": [
              "<Figure size 640x320 with 1 Axes>"
            ],
            "image/png": "[encoded data removed]"
          },
          "metadata": {}
        }
      ]
    },
    {
      "cell_type": "code",
      "source": [
        "plt.figure(figsize=(8,4), dpi=80, facecolor='w', edgecolor='k')\n",
        "plt.plot(test,color=\"green\", linestyle='dashed',label=\"Real values\")\n",
        "plt.plot(predicted_data2,color=\"blue\", label=\"LSTM predicted result\")\n",
        "plt.plot(predicted_data,color=\"red\",label=\"RNN predicted result\") # ben ekledim\n",
        "plt.legend()\n",
        "plt.xlabel(\"Days)\")\n",
        "plt.ylabel(\"Real values\")\n",
        "plt.grid(True)\n",
        "plt.show()"
      ],
      "metadata": {
        "colab": {
          "base_uri": "https://localhost:8080/",
          "height": 314
        },
        "id": "J5SbjEANYHO-",
        "outputId": "26ed4bb5-6c03-4d1a-d428-799cbbde5c2a"
      },
      "execution_count": 27,
      "outputs": [
        {
          "output_type": "display_data",
          "data": {
            "text/plain": [
              "<Figure size 640x320 with 1 Axes>"
            ],
            "image/png": "[encoded data removed]"
          },
          "metadata": {}
        }
      ]
    },
    {
      "cell_type": "code",
      "source": [],
      "metadata": {
        "id": "290WIj7aYKmG"
      },
      "execution_count": null,
      "outputs": []
    }
  ]
}